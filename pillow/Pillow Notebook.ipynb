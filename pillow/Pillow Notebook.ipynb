{
 "cells": [
  {
   "cell_type": "markdown",
   "metadata": {},
   "source": [
    "# Use of Pillow Library"
   ]
  },
  {
   "cell_type": "markdown",
   "metadata": {},
   "source": [
    "### Import Image Class from library "
   ]
  },
  {
   "cell_type": "code",
   "execution_count": 1,
   "metadata": {},
   "outputs": [],
   "source": [
    "import os, sys\n",
    "import numpy as np\n",
    "from numpy import array\n",
    "from PIL import Image, ImageFilter, ImageEnhance, ImageSequence, ImageDraw, ImageFont   #Import Image, ImageFilter, ImageEnhance, ImageSequence, ImageDraw, ImageFont Class from library\n",
    "\n",
    "#Read Concepts here: https://pillow.readthedocs.io/en/stable/handbook/concepts.html"
   ]
  },
  {
   "cell_type": "code",
   "execution_count": 2,
   "metadata": {},
   "outputs": [
    {
     "name": "stdout",
     "output_type": "stream",
     "text": [
      "JPEG (1920, 1080) RGB\n"
     ]
    }
   ],
   "source": [
    "im = Image.open('test.jpg')             #load image\n",
    "print(im.format, im.size, im.mode) "
   ]
  },
  {
   "cell_type": "markdown",
   "metadata": {},
   "source": [
    "format attribute identifies the source of an image, if image not read from file then set to NONE.\n",
    "size attribute is a 2-tuple containing width and height (in pixels). \n",
    "mode attribute defines the number and names of the bands in the image, and also the pixel type and depth.\n",
    "    L(Luminance) : Greyscale Images\n",
    "    RGB : Color Images\n",
    "    CMYK : Pre-press Images\n",
    "    \n",
    "If file not openable then OSError exception raised."
   ]
  },
  {
   "cell_type": "code",
   "execution_count": 3,
   "metadata": {},
   "outputs": [],
   "source": [
    "im.show()       #display image"
   ]
  },
  {
   "cell_type": "markdown",
   "metadata": {},
   "source": [
    "### Copying a subrectangle from an image"
   ]
  },
  {
   "cell_type": "code",
   "execution_count": 4,
   "metadata": {},
   "outputs": [],
   "source": [
    "box = (100, 300, 600, 1050)          #(left, upper, right, lower)\n",
    "#Python Imaging Library uses a coordinate system with (0, 0) in the upper left corner. \n",
    "cropped = im.crop(box)\n",
    "cropped.show()\n",
    "cropped.save('results/cropped.jpg')"
   ]
  },
  {
   "cell_type": "markdown",
   "metadata": {},
   "source": [
    "### Processing a subrectangle, and pasting it back"
   ]
  },
  {
   "cell_type": "code",
   "execution_count": 5,
   "metadata": {},
   "outputs": [],
   "source": [
    "cropped = cropped.transpose(Image.ROTATE_180)\n",
    "im.paste(cropped, box)"
   ]
  },
  {
   "cell_type": "markdown",
   "metadata": {},
   "source": [
    "### Splitting and merging bands"
   ]
  },
  {
   "cell_type": "code",
   "execution_count": 6,
   "metadata": {},
   "outputs": [],
   "source": [
    "#for a single-band image, split() returns the image itself.\n",
    "im = Image.open('test.jpg')\n",
    "im = im.convert('RGB')              #To work with individual color bands, you may want to convert the image to “RGB” first.\n",
    "r, g, b = im.split()            \n",
    "out = Image.merge(\"RGB\", (b, r, g))\n",
    "out.show()\n",
    "out = Image.merge('L', (b,))\n",
    "out.show()\n",
    "out = Image.merge('RGBA', (r, g, b, b))\n",
    "out.show()"
   ]
  },
  {
   "cell_type": "markdown",
   "metadata": {},
   "source": [
    "### Rolling an Image"
   ]
  },
  {
   "cell_type": "code",
   "execution_count": 15,
   "metadata": {},
   "outputs": [
    {
     "name": "stdout",
     "output_type": "stream",
     "text": [
      "Image Rolled!\n"
     ]
    }
   ],
   "source": [
    "def roll(image, delta):\n",
    "    \"\"\"Roll an image sideways.\"\"\"\n",
    "    xsize, ysize = image.size\n",
    "\n",
    "    delta = delta % xsize\n",
    "    if delta == 0: return image\n",
    "\n",
    "    #For Horizontal Roll\n",
    "    part1 = image.crop((0, 0, delta, ysize))               #Use : part1 = image.crop((0, 0, xsize, delta))  For Vertical\n",
    "    part2 = image.crop((delta, 0, xsize, ysize))           #Use : part2 = image.crop((0, delta, xsize, ysize)) For Vertical\n",
    "\n",
    "    image.paste(part1, (xsize-delta, 0, xsize, ysize))      #Use : (0, ysize-delta, xsize, ysize) For Vertical\n",
    "    image.paste(part2, (0, 0, xsize-delta, ysize))          #Use : (0, 0, xsize, ysize-delta) For Vertical\n",
    "    print('Image Rolled!')\n",
    "    return image\n",
    "\n",
    "\n",
    "im = Image.open('test.jpg')\n",
    "out = roll(im, 900)  #Calling the function, delta value should be within width for horizontal roll or height for vertical role.\n",
    "out.save('results/Rolled.jpg')"
   ]
  },
  {
   "cell_type": "markdown",
   "metadata": {},
   "source": [
    "paste() method is used to paste cropped image/image to another image.\n",
    "\n",
    "User needs to provide place where to paste the image with a tuple (left, upper, right, lower). Users can only provide (left, upper) as well for place and it'll work fine.\n",
    "\n",
    "One can also use mask which can be used to make pasted images with transparency. The masked image will have values between (0, 255) with 0 values being totally transparent and 255 is opaque.\n",
    "\n",
    "One can use this function to create a collage."
   ]
  },
  {
   "cell_type": "markdown",
   "metadata": {},
   "source": [
    "### Identify Image Files, Convert files to JPEG, Create JPEG thumbnails"
   ]
  },
  {
   "cell_type": "markdown",
   "metadata": {},
   "source": [
    "For running python code \n",
    "Use: python pillow filename.extension\n",
    "With this method several files can be loaded at once.\n",
    "\n",
    "For using it in Notebook you can load image as used above."
   ]
  },
  {
   "cell_type": "code",
   "execution_count": 7,
   "metadata": {},
   "outputs": [
    {
     "name": "stdout",
     "output_type": "stream",
     "text": [
      "Image Not Identified!\n",
      "Cannot convert -f\n",
      "Cannot create thumbnail for -f\n",
      "Image Not Identified!\n",
      "Cannot convert C:\\Users\\AMAN\\AppData\\Roaming\\jupyter\\runtime\\kernel-d873119b-0d6f-4f33-beda-602c650077b4.json\n",
      "Cannot create thumbnail for C:\\Users\\AMAN\\AppData\\Roaming\\jupyter\\runtime\\kernel-d873119b-0d6f-4f33-beda-602c650077b4.json\n"
     ]
    }
   ],
   "source": [
    "for infile in sys.argv[1:]:             \n",
    "    '''Identify Image Files'''\n",
    "    try:\n",
    "        with Image.open(infile) as im:\n",
    "            print('Image Identified!')\n",
    "            print(infile, im.format, f\"{im.size}x{im.mode}\")\n",
    "    except OSError:\n",
    "        print('Image Not Identified!')\n",
    "    \n",
    "    '''Convert files to JPEG'''\n",
    "    f, e = os.path.splitext(infile)\n",
    "    outfile = f + \".jpg\"\n",
    "    if infile != outfile:\n",
    "        try:\n",
    "            with Image.open(infile) as im:\n",
    "                im.save('results/converted_jpeg.jpg')\n",
    "                print('Image Converted to JPEG!')\n",
    "        except OSError:\n",
    "            print(\"Cannot convert\", infile)\n",
    "    \n",
    "    '''Create JPEG thumbnails'''\n",
    "    size = (128, 128)\n",
    "\n",
    "    outfile = os.path.splitext(infile)[0] + \".thumbnail\"\n",
    "    if infile != outfile:\n",
    "        try:\n",
    "            with Image.open(infile) as im:\n",
    "                im.thumbnail(size)\n",
    "                im.save('results/thumbnail.jpg', \"JPEG\")           #second argument explicitly specifies file format.\n",
    "                print('Thumbnail Created!')\n",
    "        except OSError:\n",
    "            print(\"Cannot create thumbnail for\", infile)"
   ]
  },
  {
   "cell_type": "markdown",
   "metadata": {},
   "source": [
    "### Geometrical Transformation"
   ]
  },
  {
   "cell_type": "code",
   "execution_count": 21,
   "metadata": {},
   "outputs": [
    {
     "data": {
      "text/plain": [
       "'To rotate the image in 90 degree steps, you can either use the rotate() method or the transpose() method. \\nThe latter can also be used to flip an image around its horizontal or vertical axis.'"
      ]
     },
     "execution_count": 21,
     "metadata": {},
     "output_type": "execute_result"
    }
   ],
   "source": [
    "im = Image.open('test.jpg')\n",
    "out = im.resize((128, 128))\n",
    "out.save('results/resize.jpg')\n",
    "out = im.rotate(45) # degrees counter-clockwise from 0-360\n",
    "out.save('results/rotate.jpg')\n",
    "\n",
    "out = im.transpose(Image.FLIP_LEFT_RIGHT) #similarly Image.FLIP_TOP_BOTTOM, Image.ROTATE_90, Image.ROTATE_180, Image.ROTATE_270\n",
    "out.save('results/transpose.jpg')\n",
    "\n",
    "'''To rotate the image in 90 degree steps, you can either use the rotate() method or the transpose() method. \n",
    "The latter can also be used to flip an image around its horizontal or vertical axis.'''"
   ]
  },
  {
   "cell_type": "markdown",
   "metadata": {},
   "source": [
    "### Color transforms"
   ]
  },
  {
   "cell_type": "code",
   "execution_count": 23,
   "metadata": {},
   "outputs": [],
   "source": [
    "im = im.convert(\"L\")\n",
    "im.save('results/L_Conversion.jpg')\n",
    "#convert() function is used to convert an image from one mode to another. Currently conversion only between images with mode types 'L', 'RGB' and 'CMYK'"
   ]
  },
  {
   "cell_type": "markdown",
   "metadata": {},
   "source": [
    "### Image enhancement"
   ]
  },
  {
   "cell_type": "markdown",
   "metadata": {},
   "source": [
    "#### Filters"
   ]
  },
  {
   "cell_type": "code",
   "execution_count": 35,
   "metadata": {},
   "outputs": [],
   "source": [
    "im = Image.open('test.jpg')\n",
    "out = im.filter(ImageFilter.DETAIL)     \n",
    "out.save('results/DETAIL.JPG')\n",
    "out = im.filter(ImageFilter.BLUR)\n",
    "out.save('results/BLUR.JPG')\n",
    "out = im.filter(ImageFilter.MinFilter(3))   #MinFilter() used to create a minimum filter. It picks the lowest pixel value in a window with the given size. \n",
    "out.save('results/MinFilter.JPG')\n",
    "out = im.filter(ImageFilter.CONTOUR)\n",
    "out.save('results/CONTOUR.JPG')\n",
    "out = im.filter(ImageFilter.EDGE_ENHANCE)\n",
    "out.save('results/EDGE_ENHANCE.JPG')\n",
    "out = im.filter(ImageFilter.EDGE_ENHANCE_MORE)\n",
    "out.save('results/EDGE_ENHANCE_MORE.JPG')\n",
    "out = im.filter(ImageFilter.EMBOSS)\n",
    "out.save('results/EMBOSS.JPG')\n",
    "out = im.filter(ImageFilter.FIND_EDGES)\n",
    "out.save('results/FIND_EDGES.JPG')\n",
    "out = im.filter(ImageFilter.SMOOTH)\n",
    "out.save('results/SMOOTH.JPG')\n",
    "out = im.filter(ImageFilter.SMOOTH_MORE)\n",
    "out.save('results/SMOOTH_MORE.JPG')\n",
    "out = im.filter(ImageFilter.SHARPEN)\n",
    "out.save('results/SHARPEN.JPG')"
   ]
  },
  {
   "cell_type": "markdown",
   "metadata": {},
   "source": [
    "#### Point Operations"
   ]
  },
  {
   "cell_type": "code",
   "execution_count": 28,
   "metadata": {},
   "outputs": [],
   "source": [
    "im = Image.open('test.jpg')\n",
    "# multiply each pixel by 3.5\n",
    "out = im.point(lambda i: i * 3.5)       # point() method used to translate the pixel values of an image. \n",
    "out.save('results/Point.jpg')"
   ]
  },
  {
   "cell_type": "markdown",
   "metadata": {},
   "source": [
    "#### Processing Individual Bands"
   ]
  },
  {
   "cell_type": "code",
   "execution_count": 3,
   "metadata": {},
   "outputs": [],
   "source": [
    "im = Image.open('test.jpg')\n",
    "# split the image into individual bands\n",
    "source = im.split()\n",
    "R, G, B = 0, 1, 2\n",
    "\n",
    "# select regions where red is less than 100\n",
    "mask = source[R].point(lambda i: i < 100 and 255)         #Syntax for making mask: imout = im.point(lambda i: expression and 255)\n",
    "\n",
    "# process the green band\n",
    "out = source[G].point(lambda i: i * 0.7)\n",
    "\n",
    "# paste the processed band back, but only where red was < 100\n",
    "source[G].paste(out, None, mask)\n",
    "\n",
    "# build a new multiband image\n",
    "out = Image.merge(im.mode, source)\n",
    "out.save('results/bands.jpg')"
   ]
  },
  {
   "cell_type": "markdown",
   "metadata": {},
   "source": [
    "#### Enhancing Images"
   ]
  },
  {
   "cell_type": "code",
   "execution_count": 33,
   "metadata": {},
   "outputs": [],
   "source": [
    "im = Image.open('test.jpg')\n",
    "enh = ImageEnhance.Contrast(im)     #An enhancement factor of 0.0 gives a solid grey image. A factor of 1.0 gives the original image.\n",
    "enh.enhance(1.3).save(\"results/30% more contrast.JPG\")      \n",
    "enh = ImageEnhance.Color(im)        #An enhancement factor of 0.0 gives a black and white image. A factor of 1.0 gives the original image.\n",
    "enh.enhance(0.5).save(\"results/50% less color.JPG\")\n",
    "enh = ImageEnhance.Brightness(im)      #An enhancement factor of 0.0 gives a black image. A factor of 1.0 gives the original image.\n",
    "enh.enhance(0.7).save(\"results/30% less brighter.JPG\") \n",
    "enh = ImageEnhance.Sharpness(im)        #An enhancement factor of 0.0 gives a blurred image, a factor of 1.0 gives the original image, and a factor of 2.0 gives a sharpened image.\n",
    "enh.enhance(1.8).save(\"results/80% more sharper.JPG\") "
   ]
  },
  {
   "cell_type": "markdown",
   "metadata": {},
   "source": [
    "### Image Sequences"
   ]
  },
  {
   "cell_type": "markdown",
   "metadata": {},
   "source": [
    " Supported sequence formats include FLI/FLC, GIF, and a few experimental formats. TIFF files can also contain more than one frame."
   ]
  },
  {
   "cell_type": "code",
   "execution_count": 4,
   "metadata": {},
   "outputs": [],
   "source": [
    "'''Reading Sequences'''\n",
    "with Image.open(\"animation.gif\") as im:\n",
    "    im.seek(1) #skip to the second frame\n",
    "\n",
    "    try:\n",
    "        while 1:\n",
    "            im.seek(im.tell()+1)\n",
    "            index = 1\n",
    "            for frame in ImageSequence.Iterator(im):\n",
    "                frame.save(f\"frames/frame{index}.png\")\n",
    "                index += 1\n",
    "\n",
    "                im.getdata()\n",
    "                #im.show()\n",
    "    except EOFError:\n",
    "        pass # end of sequence"
   ]
  },
  {
   "cell_type": "markdown",
   "metadata": {},
   "source": [
    "### Merging/Collage of Images"
   ]
  },
  {
   "cell_type": "code",
   "execution_count": 6,
   "metadata": {},
   "outputs": [],
   "source": [
    "#Read the two images\n",
    "image1 = Image.open('marvel.jpg')\n",
    "image2 = Image.open('cap.jpg')\n",
    "\n",
    "#resize image\n",
    "image1 = image1.resize((1920, 1080))\n",
    "image2 = image2.resize((1920, 1080))\n",
    "\n",
    "image1_size = image1.size\n",
    "image2_size = image2.size\n",
    "new_image = Image.new('RGB',(2*image1_size[0], image1_size[1]), (250,250,250))\n",
    "\n",
    "new_image.paste(image1,(0,0))\n",
    "new_image.paste(image2,(image1_size[0],0))\n",
    "new_image.save(\"results/merged_image.jpg\",\"JPEG\")"
   ]
  },
  {
   "cell_type": "markdown",
   "metadata": {},
   "source": [
    "### Writing Text on Image"
   ]
  },
  {
   "cell_type": "code",
   "execution_count": 18,
   "metadata": {},
   "outputs": [],
   "source": [
    "im = Image.open('test.jpg')\n",
    "d1 = ImageDraw.Draw(im)\n",
    "myFont = ImageFont.truetype('arial.ttf', 40)\n",
    "d1.text((28, 36), \"Hello, I am learning Pillow!\",font = myFont, fill=(255, 0, 0))\n",
    "im.save(\"results/image_text.jpg\")"
   ]
  },
  {
   "cell_type": "markdown",
   "metadata": {},
   "source": [
    "### Creating Image from Numpy Array"
   ]
  },
  {
   "cell_type": "markdown",
   "metadata": {},
   "source": [
    "Creating an RGB image using PIL and save it as a jpg file. In the following example we will −\n",
    "Create a 150 by 250-pixel array.\n",
    "Fill left half of the array with orange.\n",
    "Fill right half of the array with blue."
   ]
  },
  {
   "cell_type": "code",
   "execution_count": 21,
   "metadata": {},
   "outputs": [],
   "source": [
    "arr = np.zeros([150, 250, 3], dtype=np.uint8)\n",
    "arr[:,:100] = [255, 128, 0]\n",
    "arr[:,100:] = [0, 0, 255]\n",
    "img = Image.fromarray(arr)\n",
    "img.save(\"results/RGB_image.jpg\")"
   ]
  },
  {
   "cell_type": "markdown",
   "metadata": {},
   "source": [
    "### Creating greyscale images"
   ]
  },
  {
   "cell_type": "code",
   "execution_count": 23,
   "metadata": {},
   "outputs": [],
   "source": [
    "arr = np.zeros([150,300], dtype=np.uint8)\n",
    "\n",
    "#Set grey value to black or white depending on x position\n",
    "for x in range(300):\n",
    "  for y in range(150):\n",
    "     if (x % 16) // 8 == (y % 16)//8:\n",
    "        arr[y, x] = 0\n",
    "     else:\n",
    "        arr[y, x] = 255\n",
    "img = Image.fromarray(arr)\n",
    "\n",
    "img.save('results/greyscale.jpg')"
   ]
  },
  {
   "cell_type": "markdown",
   "metadata": {},
   "source": [
    "### Creating numpy array from an Image"
   ]
  },
  {
   "cell_type": "code",
   "execution_count": 27,
   "metadata": {},
   "outputs": [
    {
     "name": "stdout",
     "output_type": "stream",
     "text": [
      "[[[174 185 203]\n",
      "  [108 123 144]\n",
      "  [110 127 153]\n",
      "  ...\n",
      "  [  0   0   0]\n",
      "  [  0   0   0]\n",
      "  [  0   0   0]]\n",
      "\n",
      " [[173 186 203]\n",
      "  [108 123 144]\n",
      "  [111 127 153]\n",
      "  ...\n",
      "  [  0   0   0]\n",
      "  [  0   0   0]\n",
      "  [  0   0   0]]\n",
      "\n",
      " [[173 186 203]\n",
      "  [108 123 144]\n",
      "  [111 127 153]\n",
      "  ...\n",
      "  [  0   0   0]\n",
      "  [  0   0   0]\n",
      "  [  0   0   0]]\n",
      "\n",
      " ...\n",
      "\n",
      " [[  0   0   0]\n",
      "  [  0   0   0]\n",
      "  [  0   0   0]\n",
      "  ...\n",
      "  [  0   0   0]\n",
      "  [  0   0   0]\n",
      "  [  0   0   0]]\n",
      "\n",
      " [[  0   0   0]\n",
      "  [  0   0   0]\n",
      "  [  0   0   0]\n",
      "  ...\n",
      "  [  0   0   0]\n",
      "  [  0   0   0]\n",
      "  [  0   0   0]]\n",
      "\n",
      " [[  0   0   0]\n",
      "  [  0   0   0]\n",
      "  [  0   0   0]\n",
      "  ...\n",
      "  [  0   0   0]\n",
      "  [  0   0   0]\n",
      "  [  0   0   0]]]\n"
     ]
    }
   ],
   "source": [
    "im = Image.open('test.jpg')\n",
    "#Convert an image to numpy array\n",
    "img2arr = array(im)\n",
    "\n",
    "#Print the array\n",
    "print(img2arr)\n",
    "\n",
    "#Convert numpy array back to image\n",
    "arr2im = Image.fromarray(img2arr)\n",
    "\n",
    "#Save the image generated from an array\n",
    "arr2im.save(\"results/array2Image.jpg\")"
   ]
  },
  {
   "cell_type": "markdown",
   "metadata": {},
   "source": [
    "### Creating a WaterMark"
   ]
  },
  {
   "cell_type": "code",
   "execution_count": 28,
   "metadata": {},
   "outputs": [],
   "source": [
    "im = Image.open('test.jpg')   \n",
    "width, height = im.size\n",
    "\n",
    "draw = ImageDraw.Draw(im)\n",
    "text = \"Marvel Entertainment\"\n",
    "\n",
    "font = ImageFont.truetype('arial.ttf', 36)\n",
    "textwidth, textheight = draw.textsize(text, font)\n",
    "\n",
    "# calculate the x,y coordinates of the text\n",
    "margin = 10\n",
    "x = width - textwidth - margin\n",
    "y = height - textheight - margin\n",
    "\n",
    "# draw watermark in the bottom right corner\n",
    "draw.text((x, y), text, font=font)\n",
    "\n",
    "#Save watermarked image\n",
    "im.save('results/watermark.jpg')"
   ]
  },
  {
   "cell_type": "markdown",
   "metadata": {},
   "source": [
    "### Explore : ImageDraw Module"
   ]
  },
  {
   "cell_type": "markdown",
   "metadata": {},
   "source": [
    "- Docs : https://pillow.readthedocs.io/en/stable/reference/ImageDraw.html\n",
    "- Tutorial : https://www.tutorialspoint.com/python_pillow/python_pillow_imagedraw_module.htm"
   ]
  }
 ],
 "metadata": {
  "kernelspec": {
   "display_name": "Python 3",
   "language": "python",
   "name": "python3"
  },
  "language_info": {
   "codemirror_mode": {
    "name": "ipython",
    "version": 3
   },
   "file_extension": ".py",
   "mimetype": "text/x-python",
   "name": "python",
   "nbconvert_exporter": "python",
   "pygments_lexer": "ipython3",
   "version": "3.8.5"
  }
 },
 "nbformat": 4,
 "nbformat_minor": 4
}
